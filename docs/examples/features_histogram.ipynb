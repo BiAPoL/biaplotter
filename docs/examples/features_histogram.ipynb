{
 "cells": [
  {
   "cell_type": "code",
   "execution_count": 1,
   "metadata": {},
   "outputs": [],
   "source": [
    "import matplotlib.pyplot as plt\n",
    "import numpy as np\n",
    "from matplotlib.colors import Normalize\n",
    "from collections import defaultdict\n",
    "\n",
    "from nap_plot_tools.cmap import cat10_mod_cmap, cat10_mod_cmap_first_transparent\n",
    "\n",
    "np.random.seed(0)"
   ]
  },
  {
   "cell_type": "code",
   "execution_count": 2,
   "metadata": {},
   "outputs": [],
   "source": [
    "data = np.random.rand(100,2)*6\n",
    "x = data[:,0]\n",
    "y = data[:,1]\n",
    "feature = np.linspace(0, 5, 100)\n",
    "annotations = np.linspace(0, 5, 100).astype(int)"
   ]
  },
  {
   "cell_type": "code",
   "execution_count": 3,
   "metadata": {},
   "outputs": [
    {
     "data": {
      "text/plain": [
       "array([4.19191919, 0.85858586, 3.18181818, 0.4040404 , 5.        ,\n",
       "       2.07070707, 0.35353535, 3.68686869, 0.60606061, 3.88888889,\n",
       "       2.32323232, 3.33333333, 0.65656566, 3.78787879, 1.51515152,\n",
       "       3.83838384, 4.54545455, 4.84848485, 1.61616162, 4.34343434,\n",
       "       1.36363636, 1.16161616, 2.72727273, 4.94949495, 2.62626263,\n",
       "       0.75757576, 1.91919192, 2.37373737, 1.96969697, 1.21212121,\n",
       "       2.02020202, 2.27272727, 4.44444444, 1.01010101, 4.7979798 ,\n",
       "       3.98989899, 0.1010101 , 3.13131313, 3.58585859, 0.15151515,\n",
       "       2.77777778, 0.80808081, 0.55555556, 1.46464646, 4.29292929,\n",
       "       0.70707071, 2.17171717, 4.6969697 , 0.        , 2.12121212,\n",
       "       0.3030303 , 3.38383838, 1.26262626, 3.43434343, 2.22222222,\n",
       "       4.5959596 , 2.42424242, 2.67676768, 0.05050505, 0.90909091,\n",
       "       3.28282828, 3.48484848, 1.41414141, 1.56565657, 3.23232323,\n",
       "       1.11111111, 2.52525253, 4.04040404, 1.06060606, 2.82828283,\n",
       "       4.49494949, 3.73737374, 4.09090909, 3.03030303, 4.24242424,\n",
       "       4.74747475, 2.57575758, 1.86868687, 4.8989899 , 0.45454545,\n",
       "       0.25252525, 4.39393939, 3.63636364, 3.93939394, 2.87878788,\n",
       "       1.66666667, 2.47474747, 1.71717172, 2.92929293, 2.97979798,\n",
       "       3.53535354, 4.64646465, 0.95959596, 3.08080808, 0.2020202 ,\n",
       "       4.14141414, 1.76767677, 1.81818182, 0.50505051, 1.31313131])"
      ]
     },
     "execution_count": 3,
     "metadata": {},
     "output_type": "execute_result"
    }
   ],
   "source": [
    "# sort feature according to x\n",
    "feature = feature[np.argsort(x)]\n",
    "feature"
   ]
  },
  {
   "cell_type": "code",
   "execution_count": 4,
   "metadata": {},
   "outputs": [
    {
     "data": {
      "text/plain": [
       "array([3.29288102, 3.61658026, 2.5419288 , 2.62552327, 5.78197656,\n",
       "       4.75035023, 3.40826737, 0.42621635, 0.12131038, 4.66894051,\n",
       "       5.87171005, 2.76887617, 0.70964656, 0.86011972, 3.13108993,\n",
       "       1.58733367, 2.73690199, 0.1127388 , 3.67257434, 5.66248847,\n",
       "       2.1570474 , 4.18578718, 4.00060029, 1.26229537, 1.89257011,\n",
       "       3.42118062, 5.93024303, 1.25326054, 3.91864995, 2.79786464,\n",
       "       0.9538175 , 3.93797754, 1.17949417, 4.92595938, 5.02766944,\n",
       "       5.85875679, 5.86056653, 4.43558148, 1.69684178, 1.77684119,\n",
       "       1.90789908, 0.38488498, 3.39960873, 3.13948832, 3.45567897,\n",
       "       1.91141371, 0.79078717, 1.73643656, 3.51907761, 4.97364018,\n",
       "       4.06689922, 4.41116413, 1.49251886, 3.55225159, 1.3384898 ,\n",
       "       2.68275227, 4.19687565, 4.88278692, 5.28661918, 5.29041217,\n",
       "       4.35152568, 5.73650181, 2.54313029, 0.11515919, 3.96104122,\n",
       "       3.70809257, 0.81284439, 3.41978946, 3.44595149, 3.91261962,\n",
       "       5.37927958, 2.61518955, 4.83716393, 0.60136132, 4.2854478 ,\n",
       "       0.89668983, 0.97495761, 0.7429199 , 4.84391375, 2.44309978,\n",
       "       4.18457264, 4.3323336 , 5.85312903, 0.07028451, 4.37994337,\n",
       "       3.12621964, 1.19997915, 4.76218622, 2.07211008, 4.22648641,\n",
       "       0.98816494, 3.46337153, 5.60528399, 3.21379682, 4.38073218,\n",
       "       2.38932637, 1.11715804, 4.43730477, 1.36448777, 0.34817496])"
      ]
     },
     "execution_count": 4,
     "metadata": {},
     "output_type": "execute_result"
    }
   ],
   "source": [
    "x"
   ]
  },
  {
   "cell_type": "markdown",
   "metadata": {},
   "source": [
    "Make 2D histogram with numpy or matplotlib"
   ]
  },
  {
   "cell_type": "code",
   "execution_count": 5,
   "metadata": {},
   "outputs": [],
   "source": [
    "histogram, x_edges, y_edges= np.histogram2d(x, y, bins=10)\n"
   ]
  },
  {
   "cell_type": "code",
   "execution_count": 6,
   "metadata": {},
   "outputs": [
    {
     "data": {
      "image/png": "[encoded data removed]",
      "text/plain": [
       "<Figure size 640x480 with 1 Axes>"
      ]
     },
     "metadata": {},
     "output_type": "display_data"
    }
   ],
   "source": [
    "mpl_hist, _, _, _ = plt.hist2d(x, y, bins=10)"
   ]
  },
  {
   "cell_type": "code",
   "execution_count": 7,
   "metadata": {},
   "outputs": [
    {
     "data": {
      "text/plain": [
       "array([0.07028451, 0.65628036, 1.24227621, 1.82827206, 2.41426791,\n",
       "       3.00026377, 3.58625962, 4.17225547, 4.75825132, 5.34424718,\n",
       "       5.93024303])"
      ]
     },
     "execution_count": 7,
     "metadata": {},
     "output_type": "execute_result"
    }
   ],
   "source": [
    "x_edges"
   ]
  },
  {
   "cell_type": "code",
   "execution_count": 8,
   "metadata": {},
   "outputs": [
    {
     "data": {
      "text/plain": [
       "11"
      ]
     },
     "execution_count": 8,
     "metadata": {},
     "output_type": "execute_result"
    }
   ],
   "source": [
    "len(x_edges)"
   ]
  },
  {
   "cell_type": "markdown",
   "metadata": {},
   "source": [
    "Get the bin index of each element in the 2D histogram accross x and y axis"
   ]
  },
  {
   "cell_type": "code",
   "execution_count": 9,
   "metadata": {},
   "outputs": [],
   "source": [
    "x_bin_index = (np.digitize(x, x_edges, right=False) - 1).clip(0, len(x_edges)-2) # Get the bin index for each x value ( -1 to start from index 0 and clip to handle edge cases)\n",
    "y_bin_index = (np.digitize(y, y_edges, right=False) - 1).clip(0, len(y_edges)-2) # Get the bin index for each y value ( -1 to start from index 0 and clip to handle edge cases)"
   ]
  },
  {
   "cell_type": "code",
   "execution_count": 10,
   "metadata": {},
   "outputs": [
    {
     "data": {
      "text/plain": [
       "array([5, 6, 4, 4, 9, 7, 5, 0, 0, 7, 9, 4, 1, 1, 5, 2, 4, 0, 6, 9, 3, 7,\n",
       "       6, 2, 3, 5, 9, 2, 6, 4, 1, 6, 1, 8, 8, 9, 9, 7, 2, 2, 3, 0, 5, 5,\n",
       "       5, 3, 1, 2, 5, 8, 6, 7, 2, 5, 2, 4, 7, 8, 8, 8, 7, 9, 4, 0, 6, 6,\n",
       "       1, 5, 5, 6, 9, 4, 8, 0, 7, 1, 1, 1, 8, 4, 7, 7, 9, 0, 7, 5, 1, 8,\n",
       "       3, 7, 1, 5, 9, 5, 7, 3, 1, 7, 2, 0], dtype=int64)"
      ]
     },
     "execution_count": 10,
     "metadata": {},
     "output_type": "execute_result"
    }
   ],
   "source": [
    "x_bin_index"
   ]
  },
  {
   "cell_type": "code",
   "execution_count": 11,
   "metadata": {},
   "outputs": [
    {
     "data": {
      "text/plain": [
       "array([7, 5, 6, 8, 3, 5, 9, 0, 8, 8, 7, 7, 6, 9, 4, 7, 5, 6, 6, 6, 4, 0,\n",
       "       6, 1, 3, 4, 0, 1, 2, 2, 1, 1, 3, 0, 0, 4, 6, 0, 1, 1, 4, 6, 2, 0,\n",
       "       9, 6, 7, 1, 0, 0, 2, 9, 5, 5, 9, 8, 2, 3, 5, 6, 4, 6, 6, 2, 2, 4,\n",
       "       2, 5, 6, 4, 3, 8, 7, 9, 9, 8, 6, 8, 5, 0, 4, 8, 8, 3, 1, 0, 0, 2,\n",
       "       9, 0, 6, 2, 6, 5, 3, 2, 9, 4, 2, 4], dtype=int64)"
      ]
     },
     "execution_count": 11,
     "metadata": {},
     "output_type": "execute_result"
    }
   ],
   "source": [
    "y_bin_index"
   ]
  },
  {
   "cell_type": "markdown",
   "metadata": {},
   "source": [
    "Re-build the histogram by cumulative sum of the bin indices in the right position"
   ]
  },
  {
   "cell_type": "code",
   "execution_count": 12,
   "metadata": {},
   "outputs": [],
   "source": [
    "features_histogram = np.zeros((10,10))\n"
   ]
  },
  {
   "cell_type": "code",
   "execution_count": 13,
   "metadata": {},
   "outputs": [],
   "source": [
    "for i, j in zip(x_bin_index, y_bin_index):\n",
    "    features_histogram[i, j] += 1"
   ]
  },
  {
   "cell_type": "markdown",
   "metadata": {},
   "source": [
    "Check that re-built histogram is the same as the original histogram"
   ]
  },
  {
   "cell_type": "code",
   "execution_count": 14,
   "metadata": {},
   "outputs": [
    {
     "data": {
      "text/plain": [
       "True"
      ]
     },
     "execution_count": 14,
     "metadata": {},
     "output_type": "execute_result"
    }
   ],
   "source": [
    "np.array_equal(features_histogram, histogram)"
   ]
  },
  {
   "cell_type": "markdown",
   "metadata": {},
   "source": [
    "Build new histogram based on features data"
   ]
  },
  {
   "cell_type": "code",
   "execution_count": 17,
   "metadata": {},
   "outputs": [],
   "source": [
    "def calculate_statistic_histogram(x_indices, y_indices, features, statistic='sum'):\n",
    "    \"\"\"\n",
    "    Calculate either the mean or median \"histogram\" for provided indices and features.\n",
    "    \n",
    "    Parameters:\n",
    "    - x_indices: numpy array of x indices\n",
    "    - y_indices: numpy array of y indices\n",
    "    - features: numpy array of feature values\n",
    "    - statistic: 'mean' or 'median', the type of statistic to compute\n",
    "    \n",
    "    Returns:\n",
    "    - 2D numpy array with the calculated statistic\n",
    "    \"\"\"\n",
    "    height = max(x_indices) + 1\n",
    "    width = max(y_indices) + 1\n",
    "    statistic_histogram = np.full((height, width), np.nan)  # Initialize with NaNs\n",
    "\n",
    "    if statistic == 'mean':\n",
    "        sums = np.zeros((height, width))\n",
    "        counts = np.zeros((height, width))\n",
    "        for x, y, feature in zip(x_indices, y_indices, features):\n",
    "            sums[x, y] += feature\n",
    "            counts[x, y] += 1\n",
    "        np.divide(sums, counts, out=statistic_histogram, where=counts != 0)\n",
    "    elif statistic == 'median':\n",
    "        feature_lists = defaultdict(list)\n",
    "        for x, y, feature in zip(x_indices, y_indices, features):\n",
    "            feature_lists[(x, y)].append(feature)\n",
    "        for (x, y), feats in feature_lists.items():\n",
    "            if feats:\n",
    "                statistic_histogram[x, y] = np.median(feats)\n",
    "    elif statistic == 'sum':\n",
    "        sums = np.zeros((height, width))\n",
    "        for x, y, feature in zip(x_indices, y_indices, features):\n",
    "            if np.isnan(sums[x, y]):\n",
    "                sums[x, y] = 0  # Initialize sum as 0 when first feature is added\n",
    "            sums[x, y] += feature\n",
    "        statistic_histogram = sums  # No need to handle NaNs separately for sums\n",
    "\n",
    "    return statistic_histogram\n",
    "\n",
    "def array_to_rgba(data, colormap=plt.cm.viridis, dtype=float):\n",
    "    \"\"\"\n",
    "    Convert a 2D data array to an RGBA image using a matplotlib colormap.\n",
    "    \n",
    "    Parameters:\n",
    "    - data: 2D numpy array of data values\n",
    "    - colormap: matplotlib colormap to use\n",
    "    \n",
    "    Returns:\n",
    "    - RGBA image array\n",
    "    \"\"\"\n",
    "    if dtype == int:\n",
    "        norm = Normalize(vmin=0, vmax=colormap.N)\n",
    "    elif dtype == float:\n",
    "        norm = Normalize(vmin=np.nanmin(data), vmax=np.nanmax(data))\n",
    "    colored_image = colormap(norm(data))\n",
    "    colored_image[np.isnan(data)] = [0, 0, 0, 0]  # Set NaN values to transparent\n",
    "    return colored_image.swapaxes(0, 1)\n"
   ]
  },
  {
   "cell_type": "markdown",
   "metadata": {},
   "source": [
    "Calculate the histogram using calculate_statistic_histogram function with statistic type 'sum' and features being counts."
   ]
  },
  {
   "cell_type": "code",
   "execution_count": 46,
   "metadata": {},
   "outputs": [
    {
     "data": {
      "image/png": "[encoded data removed]",
      "text/plain": [
       "<Figure size 640x480 with 1 Axes>"
      ]
     },
     "metadata": {},
     "output_type": "display_data"
    }
   ],
   "source": [
    "# Calculate the statistic\n",
    "statistic_type = 'sum'\n",
    "result = calculate_statistic_histogram(x_bin_index, y_bin_index, np.ones(len(x_bin_index)), statistic=statistic_type)\n",
    "\n",
    "# Convert array to RGBA image\n",
    "image= array_to_rgba(result)\n",
    "\n",
    "# To display the image and colorbar\n",
    "plt.imshow(image)\n",
    "plt.title(f\"{statistic_type.capitalize()} Values Colored by Colormap\")\n",
    "plt.show()"
   ]
  },
  {
   "cell_type": "code",
   "execution_count": 19,
   "metadata": {},
   "outputs": [
    {
     "data": {
      "text/plain": [
       "array([[1., 0., 1., 1., 1., 0., 2., 0., 1., 1.],\n",
       "       [1., 1., 1., 1., 0., 0., 3., 1., 2., 2.],\n",
       "       [0., 5., 1., 0., 0., 1., 0., 1., 0., 1.],\n",
       "       [0., 0., 1., 1., 2., 0., 1., 0., 0., 1.],\n",
       "       [1., 0., 1., 0., 0., 1., 2., 1., 3., 0.],\n",
       "       [3., 0., 2., 0., 2., 3., 1., 1., 0., 2.],\n",
       "       [0., 1., 3., 0., 2., 1., 2., 0., 0., 0.],\n",
       "       [3., 1., 1., 1., 3., 1., 0., 0., 2., 2.],\n",
       "       [3., 0., 1., 1., 0., 2., 1., 1., 0., 0.],\n",
       "       [1., 0., 0., 2., 1., 0., 4., 1., 1., 0.]])"
      ]
     },
     "execution_count": 19,
     "metadata": {},
     "output_type": "execute_result"
    }
   ],
   "source": [
    "features_histogram"
   ]
  },
  {
   "cell_type": "code",
   "execution_count": 20,
   "metadata": {},
   "outputs": [
    {
     "data": {
      "text/plain": [
       "array([[1., 0., 1., 1., 1., 0., 2., 0., 1., 1.],\n",
       "       [1., 1., 1., 1., 0., 0., 3., 1., 2., 2.],\n",
       "       [0., 5., 1., 0., 0., 1., 0., 1., 0., 1.],\n",
       "       [0., 0., 1., 1., 2., 0., 1., 0., 0., 1.],\n",
       "       [1., 0., 1., 0., 0., 1., 2., 1., 3., 0.],\n",
       "       [3., 0., 2., 0., 2., 3., 1., 1., 0., 2.],\n",
       "       [0., 1., 3., 0., 2., 1., 2., 0., 0., 0.],\n",
       "       [3., 1., 1., 1., 3., 1., 0., 0., 2., 2.],\n",
       "       [3., 0., 1., 1., 0., 2., 1., 1., 0., 0.],\n",
       "       [1., 0., 0., 2., 1., 0., 4., 1., 1., 0.]])"
      ]
     },
     "execution_count": 20,
     "metadata": {},
     "output_type": "execute_result"
    }
   ],
   "source": [
    "histogram"
   ]
  },
  {
   "cell_type": "code",
   "execution_count": 21,
   "metadata": {},
   "outputs": [
    {
     "data": {
      "text/plain": [
       "array([[1., 0., 1., 1., 1., 0., 2., 0., 1., 1.],\n",
       "       [1., 1., 1., 1., 0., 0., 3., 1., 2., 2.],\n",
       "       [0., 5., 1., 0., 0., 1., 0., 1., 0., 1.],\n",
       "       [0., 0., 1., 1., 2., 0., 1., 0., 0., 1.],\n",
       "       [1., 0., 1., 0., 0., 1., 2., 1., 3., 0.],\n",
       "       [3., 0., 2., 0., 2., 3., 1., 1., 0., 2.],\n",
       "       [0., 1., 3., 0., 2., 1., 2., 0., 0., 0.],\n",
       "       [3., 1., 1., 1., 3., 1., 0., 0., 2., 2.],\n",
       "       [3., 0., 1., 1., 0., 2., 1., 1., 0., 0.],\n",
       "       [1., 0., 0., 2., 1., 0., 4., 1., 1., 0.]])"
      ]
     },
     "execution_count": 21,
     "metadata": {},
     "output_type": "execute_result"
    }
   ],
   "source": [
    "result"
   ]
  },
  {
   "cell_type": "markdown",
   "metadata": {},
   "source": [
    "Now replace features by float feature column, for example x itself"
   ]
  },
  {
   "cell_type": "code",
   "execution_count": 28,
   "metadata": {},
   "outputs": [
    {
     "data": {
      "image/png": "[encoded data removed]",
      "text/plain": [
       "<Figure size 640x480 with 1 Axes>"
      ]
     },
     "metadata": {},
     "output_type": "display_data"
    }
   ],
   "source": [
    "# Calculate the statistic\n",
    "statistic_type = 'sum'\n",
    "result = calculate_statistic_histogram(x_bin_index, y_bin_index, x, statistic=statistic_type)\n",
    "\n",
    "# Convert array to RGBA image\n",
    "image= array_to_rgba(result)\n",
    "\n",
    "# To display the image and colorbar\n",
    "plt.imshow(image)\n",
    "plt.title(f\"{statistic_type.capitalize()} Values Colored by Colormap\")\n",
    "plt.show()"
   ]
  },
  {
   "cell_type": "code",
   "execution_count": 29,
   "metadata": {},
   "outputs": [
    {
     "data": {
      "text/plain": [
       "22.864840796117875"
      ]
     },
     "execution_count": 29,
     "metadata": {},
     "output_type": "execute_result"
    }
   ],
   "source": [
    "result.max()"
   ]
  },
  {
   "cell_type": "code",
   "execution_count": 30,
   "metadata": {},
   "outputs": [
    {
     "data": {
      "text/plain": [
       "22.864840796117875"
      ]
     },
     "execution_count": 30,
     "metadata": {},
     "output_type": "execute_result"
    }
   ],
   "source": [
    "# array axes are swapped compared to colored_image\n",
    "result[-1, 6]"
   ]
  },
  {
   "cell_type": "markdown",
   "metadata": {},
   "source": [
    "However, summing x coordinates does not make much sense, so it would be better to use mean or median values of x coordinates.\n",
    "\n",
    "This will generate a new image (an overlay) colored based on x coordinates."
   ]
  },
  {
   "cell_type": "code",
   "execution_count": 31,
   "metadata": {},
   "outputs": [
    {
     "data": {
      "image/png": "[encoded data removed]",
      "text/plain": [
       "<Figure size 640x480 with 1 Axes>"
      ]
     },
     "metadata": {},
     "output_type": "display_data"
    }
   ],
   "source": [
    "# Calculate the statistic\n",
    "statistic_type = 'mean'\n",
    "result = calculate_statistic_histogram(x_bin_index, y_bin_index, x, statistic=statistic_type)\n",
    "\n",
    "# Convert array to RGBA image\n",
    "image= array_to_rgba(result)\n",
    "\n",
    "# To display the image and colorbar\n",
    "plt.imshow(image)\n",
    "plt.title(f\"{statistic_type.capitalize()} Values Colored by Colormap\")\n",
    "plt.show()"
   ]
  },
  {
   "cell_type": "code",
   "execution_count": 32,
   "metadata": {},
   "outputs": [
    {
     "data": {
      "text/plain": [
       "array([[0.42621635,        nan, 0.11515919, 0.07028451, 0.34817496,\n",
       "               nan, 0.24881189,        nan, 0.12131038, 0.60136132],\n",
       "       [1.19997915, 0.9538175 , 0.81284439, 1.17949417,        nan,\n",
       "               nan, 0.89092303, 0.79078717, 0.81980486, 0.98863888],\n",
       "       [       nan, 1.54513508, 1.36448777,        nan,        nan,\n",
       "        1.49251886,        nan, 1.58733367,        nan, 1.3384898 ],\n",
       "       [       nan,        nan, 2.38932637, 1.89257011, 2.03247324,\n",
       "               nan, 1.91141371,        nan,        nan, 2.07211008],\n",
       "       [2.44309978,        nan, 2.79786464,        nan,        nan,\n",
       "        2.73690199, 2.54252954, 2.76887617, 2.64115503,        nan],\n",
       "       [3.26159519,        nan, 3.43149013,        nan, 3.27613528,\n",
       "        3.39527929, 3.44595149, 3.29288102,        nan, 3.43197317],\n",
       "       [       nan, 3.93797754, 3.9821968 ,        nan, 3.8103561 ,\n",
       "        3.61658026, 3.83658731,        nan,        nan,        nan],\n",
       "       [4.28261835, 4.37994337, 4.19687565, 4.38073218, 4.3244677 ,\n",
       "        4.75035023,        nan,        nan, 4.50063705, 4.34830597],\n",
       "       [4.97575633,        nan, 4.76218622, 4.88278692,        nan,\n",
       "        5.06526647, 5.29041217, 4.83716393,        nan,        nan],\n",
       "       [5.93024303,        nan,        nan, 5.58062807, 5.85875679,\n",
       "               nan, 5.7162102 , 5.87171005, 5.85312903,        nan]])"
      ]
     },
     "execution_count": 32,
     "metadata": {},
     "output_type": "execute_result"
    }
   ],
   "source": [
    "result"
   ]
  },
  {
   "cell_type": "markdown",
   "metadata": {},
   "source": [
    "If we have a categorical column with annotations, we can use it to color the overlay. Now, using 'sum' or 'mean' statistic type does not make sense, so we will use 'median' statistic type."
   ]
  },
  {
   "cell_type": "code",
   "execution_count": 38,
   "metadata": {},
   "outputs": [
    {
     "data": {
      "image/png": "[encoded data removed]",
      "text/plain": [
       "<Figure size 640x480 with 1 Axes>"
      ]
     },
     "metadata": {},
     "output_type": "display_data"
    }
   ],
   "source": [
    " # Calculate the statistic\n",
    "statistic_type = 'median'\n",
    "result = calculate_statistic_histogram(x_bin_index, y_bin_index, annotations, statistic=statistic_type)\n",
    "\n",
    "# Convert array to RGBA image\n",
    "image= array_to_rgba(result, colormap=plt.cm.viridis, dtype=float)\n",
    "\n",
    "# To display the image and colorbar\n",
    "plt.imshow(image)\n",
    "plt.title(f\"{statistic_type.capitalize()} Values Colored by Colormap\")\n",
    "plt.show()"
   ]
  },
  {
   "cell_type": "code",
   "execution_count": 39,
   "metadata": {},
   "outputs": [
    {
     "data": {
      "text/plain": [
       "array([[0. , nan, 3. , 4. , 5. , nan, 1. , nan, 0. , 3. ],\n",
       "       [4. , 1. , 3. , 1. , nan, nan, 3. , 2. , 3. , 2. ],\n",
       "       [nan, 1. , 4. , nan, nan, 2. , nan, 0. , nan, 2. ],\n",
       "       [nan, nan, 4. , 1. , 1.5, nan, 2. , nan, nan, 4. ],\n",
       "       [3. , nan, 1. , nan, nan, 0. , 1.5, 0. , 2. , nan],\n",
       "       [2. , nan, 3. , nan, 0.5, 3. , 3. , 0. , nan, 1. ],\n",
       "       [nan, 1. , 2. , nan, 3. , 0. , 0.5, nan, nan, nan],\n",
       "       [1. , 4. , 2. , 4. , 4. , 0. , nan, nan, 2. , 2.5],\n",
       "       [1. , nan, 4. , 2. , nan, 2.5, 2. , 3. , nan, nan],\n",
       "       [1. , nan, nan, 1.5, 1. , nan, 2. , 0. , 4. , nan]])"
      ]
     },
     "execution_count": 39,
     "metadata": {},
     "output_type": "execute_result"
    }
   ],
   "source": [
    "result"
   ]
  },
  {
   "cell_type": "markdown",
   "metadata": {},
   "source": [
    "Better to use a categorical colormap in that case. We specify dtype=int for the array_to_rgba function to normalize the colormap to the number of colors in the colormap instead of the maximal annotation value."
   ]
  },
  {
   "cell_type": "code",
   "execution_count": 40,
   "metadata": {},
   "outputs": [
    {
     "data": {
      "image/png": "[encoded data removed]",
      "text/plain": [
       "<Figure size 640x480 with 1 Axes>"
      ]
     },
     "metadata": {},
     "output_type": "display_data"
    }
   ],
   "source": [
    " # Calculate the statistic\n",
    "statistic_type = 'median'\n",
    "result = calculate_statistic_histogram(x_bin_index, y_bin_index, annotations, statistic=statistic_type)\n",
    "\n",
    "# Convert array to RGBA image\n",
    "image= array_to_rgba(result, colormap=cat10_mod_cmap_first_transparent, dtype=int)\n",
    "\n",
    "# To display the image and colorbar\n",
    "plt.imshow(image)\n",
    "plt.title(f\"{statistic_type.capitalize()} Values Colored by Colormap\")\n",
    "plt.show()"
   ]
  },
  {
   "cell_type": "code",
   "execution_count": 41,
   "metadata": {},
   "outputs": [
    {
     "data": {
      "text/plain": [
       "array([[0. , nan, 3. , 4. , 5. , nan, 1. , nan, 0. , 3. ],\n",
       "       [4. , 1. , 3. , 1. , nan, nan, 3. , 2. , 3. , 2. ],\n",
       "       [nan, 1. , 4. , nan, nan, 2. , nan, 0. , nan, 2. ],\n",
       "       [nan, nan, 4. , 1. , 1.5, nan, 2. , nan, nan, 4. ],\n",
       "       [3. , nan, 1. , nan, nan, 0. , 1.5, 0. , 2. , nan],\n",
       "       [2. , nan, 3. , nan, 0.5, 3. , 3. , 0. , nan, 1. ],\n",
       "       [nan, 1. , 2. , nan, 3. , 0. , 0.5, nan, nan, nan],\n",
       "       [1. , 4. , 2. , 4. , 4. , 0. , nan, nan, 2. , 2.5],\n",
       "       [1. , nan, 4. , 2. , nan, 2.5, 2. , 3. , nan, nan],\n",
       "       [1. , nan, nan, 1.5, 1. , nan, 2. , 0. , 4. , nan]])"
      ]
     },
     "execution_count": 41,
     "metadata": {},
     "output_type": "execute_result"
    }
   ],
   "source": [
    "result"
   ]
  },
  {
   "cell_type": "code",
   "execution_count": 42,
   "metadata": {},
   "outputs": [
    {
     "data": {
      "image/png": "[encoded data removed]",
      "text/plain": [
       "<Figure size 640x480 with 1 Axes>"
      ]
     },
     "metadata": {},
     "output_type": "display_data"
    }
   ],
   "source": [
    " # Calculate the statistic\n",
    "statistic_type = 'mean'\n",
    "result = calculate_statistic_histogram(x_bin_index, y_bin_index, annotations, statistic=statistic_type)\n",
    "\n",
    "# Convert array to RGBA image\n",
    "image= array_to_rgba(result, colormap=cat10_mod_cmap_first_transparent, dtype=int)\n",
    "\n",
    "# To display the image and colorbar\n",
    "plt.imshow(image)\n",
    "plt.title(f\"{statistic_type.capitalize()} Values Colored by Colormap\")\n",
    "plt.show()"
   ]
  },
  {
   "cell_type": "code",
   "execution_count": 43,
   "metadata": {},
   "outputs": [
    {
     "data": {
      "text/plain": [
       "array([[0.        ,        nan, 3.        , 4.        , 5.        ,\n",
       "               nan, 1.        ,        nan, 0.        , 3.        ],\n",
       "       [4.        , 1.        , 3.        , 1.        ,        nan,\n",
       "               nan, 2.33333333, 2.        , 3.        , 2.        ],\n",
       "       [       nan, 1.2       , 4.        ,        nan,        nan,\n",
       "        2.        ,        nan, 0.        ,        nan, 2.        ],\n",
       "       [       nan,        nan, 4.        , 1.        , 1.5       ,\n",
       "               nan, 2.        ,        nan,        nan, 4.        ],\n",
       "       [3.        ,        nan, 1.        ,        nan,        nan,\n",
       "        0.        , 1.5       , 0.        , 1.66666667,        nan],\n",
       "       [2.66666667,        nan, 3.        ,        nan, 0.5       ,\n",
       "        3.        , 3.        , 0.        ,        nan, 1.        ],\n",
       "       [       nan, 1.        , 2.        ,        nan, 3.        ,\n",
       "        0.        , 0.5       ,        nan,        nan,        nan],\n",
       "       [2.        , 4.        , 2.        , 4.        , 3.66666667,\n",
       "        0.        ,        nan,        nan, 2.        , 2.5       ],\n",
       "       [1.33333333,        nan, 4.        , 2.        ,        nan,\n",
       "        2.5       , 2.        , 3.        ,        nan,        nan],\n",
       "       [1.        ,        nan,        nan, 1.5       , 1.        ,\n",
       "               nan, 2.        , 0.        , 4.        ,        nan]])"
      ]
     },
     "execution_count": 43,
     "metadata": {},
     "output_type": "execute_result"
    }
   ],
   "source": [
    "result"
   ]
  },
  {
   "cell_type": "markdown",
   "metadata": {},
   "source": [
    "Sum makes no sense for annotations, so let's replace it by the median value"
   ]
  },
  {
   "cell_type": "code",
   "execution_count": 31,
   "metadata": {},
   "outputs": [
    {
     "data": {
      "image/png": "[encoded data removed]",
      "text/plain": [
       "<Figure size 640x480 with 1 Axes>"
      ]
     },
     "metadata": {},
     "output_type": "display_data"
    }
   ],
   "source": [
    "# Calculate the statistic\n",
    "statistic_type = 'median'\n",
    "result = calculate_statistic_histogram(x_bin_index, y_bin_index, annotations, statistic=statistic_type)\n",
    "\n",
    "# Convert array to RGBA image\n",
    "image= array_to_rgba(result, colormap=cat10_mod_cmap_first_transparent, dtype=int)\n",
    "\n",
    "# To display the image and colorbar\n",
    "plt.imshow(image)\n",
    "plt.title(f\"{statistic_type.capitalize()} Values Colored by Colormap\")\n",
    "plt.show()"
   ]
  },
  {
   "cell_type": "code",
   "execution_count": 32,
   "metadata": {},
   "outputs": [
    {
     "data": {
      "text/plain": [
       "array([[nan, nan, 1. , 3. , nan, 2. , 1. , nan, 3. , 0. ],\n",
       "       [2. , 4. , nan, 2.5, 1. , 0. , 2. , nan, 0. , nan],\n",
       "       [4. , 4. , 4. , 1.5, nan, 1. , nan, nan, nan, 2. ],\n",
       "       [1. , 0. , 4. , 3. , 0. , nan, 1. , 3. , 0. , 0.5],\n",
       "       [nan, 4. , 3.5, nan, 1. , 2.5, nan, 0. , 3. , nan],\n",
       "       [nan, 2. , nan, nan, 2. , 3. , 2. , 2. , nan, 2.5],\n",
       "       [0. , 4. , nan, nan, nan, nan, 2.5, nan, 3. , 3. ],\n",
       "       [nan, nan, 1. , nan, nan, nan, 1.5, 4. , 0. , 2.5],\n",
       "       [4. , nan, 1. , nan, 0. , nan, nan, 2. , 1.5, nan],\n",
       "       [2. , 1. , 2.5, nan, 3.5, nan, 3. , 2. , 0. , 2. ]])"
      ]
     },
     "execution_count": 32,
     "metadata": {},
     "output_type": "execute_result"
    }
   ],
   "source": [
    "result"
   ]
  },
  {
   "cell_type": "code",
   "execution_count": 200,
   "metadata": {},
   "outputs": [
    {
     "data": {
      "image/png": "[encoded data removed]",
      "text/plain": [
       "<Figure size 640x480 with 1 Axes>"
      ]
     },
     "metadata": {},
     "output_type": "display_data"
    }
   ],
   "source": [
    "# Calculate the statistic\n",
    "statistic_type = 'mean'\n",
    "result = calculate_statistic_histogram(x_bin_index, y_bin_index, feature, statistic=statistic_type)\n",
    "\n",
    "# Convert array to RGBA image\n",
    "image= array_to_rgba(result)\n",
    "\n",
    "# To display the image and colorbar\n",
    "plt.imshow(image)\n",
    "plt.title(f\"{statistic_type.capitalize()} Values Colored by Colormap\")\n",
    "plt.show()"
   ]
  },
  {
   "cell_type": "code",
   "execution_count": 201,
   "metadata": {},
   "outputs": [
    {
     "data": {
      "text/plain": [
       "array([[2.42772326, 5.28686391, 5.02130818,        nan,        nan,\n",
       "               nan, 3.1657968 ,        nan, 4.81065492, 4.93518501],\n",
       "       [       nan, 3.62450468,        nan,        nan,        nan,\n",
       "        3.93187409, 3.89858028, 3.32091649,        nan,        nan],\n",
       "       [3.04004716,        nan,        nan, 5.36726395, 1.04162495,\n",
       "        2.25505975, 2.35814875, 1.78191427,        nan,        nan],\n",
       "       [3.22597568, 2.33301908,        nan,        nan, 5.46954134,\n",
       "        2.14723662, 0.54977792, 5.39933794, 4.54929736, 2.50869049],\n",
       "       [       nan, 1.48345153,        nan, 2.49431005,        nan,\n",
       "        4.8637746 ,        nan, 5.51196903, 3.92434983, 2.58214555],\n",
       "       [5.18157359, 2.49789784,        nan,        nan,        nan,\n",
       "        4.71569884,        nan, 1.72945875,        nan,        nan],\n",
       "       [3.09353332,        nan, 0.84198435,        nan,        nan,\n",
       "        2.19892797,        nan, 3.38236632,        nan, 3.03585469],\n",
       "       [0.91807179, 4.13091377,        nan, 2.80595133, 2.16440968,\n",
       "        3.5382711 ,        nan,        nan, 2.41252652, 3.5193754 ],\n",
       "       [2.75378166, 0.81045228, 4.46076976, 2.80761821,        nan,\n",
       "        4.2138802 , 2.79984937, 3.89233582,        nan, 5.94250741],\n",
       "       [1.36781918, 5.41923498,        nan,        nan, 1.77788685,\n",
       "        0.51168759, 2.27560191,        nan, 2.29971557, 1.64010467]])"
      ]
     },
     "execution_count": 201,
     "metadata": {},
     "output_type": "execute_result"
    }
   ],
   "source": [
    "result\n",
    "\n"
   ]
  },
  {
   "cell_type": "code",
   "execution_count": 202,
   "metadata": {},
   "outputs": [
    {
     "data": {
      "image/png": "[encoded data removed]",
      "text/plain": [
       "<Figure size 640x480 with 1 Axes>"
      ]
     },
     "metadata": {},
     "output_type": "display_data"
    }
   ],
   "source": [
    "# Calculate the statistic\n",
    "statistic_type = 'median'\n",
    "result = calculate_statistic_histogram(x_bin_index, y_bin_index, feature, statistic=statistic_type)\n",
    "\n",
    "# Convert array to RGBA image\n",
    "image= array_to_rgba(result)\n",
    "\n",
    "# To display the image and colorbar\n",
    "plt.imshow(image)\n",
    "plt.title(f\"{statistic_type.capitalize()} Values Colored by Colormap\")\n",
    "plt.show()"
   ]
  },
  {
   "cell_type": "code",
   "execution_count": 203,
   "metadata": {},
   "outputs": [
    {
     "data": {
      "text/plain": [
       "array([[1.75220646, 5.28686391, 5.02130818,        nan,        nan,\n",
       "               nan, 2.62410144,        nan, 5.16229321, 4.93518501],\n",
       "       [       nan, 3.62450468,        nan,        nan,        nan,\n",
       "        3.93187409, 3.89858028, 3.32091649,        nan,        nan],\n",
       "       [3.98601494,        nan,        nan, 5.36726395, 1.04162495,\n",
       "        2.25505975, 1.20914453, 1.72978804,        nan,        nan],\n",
       "       [3.22597568, 2.33301908,        nan,        nan, 5.46954134,\n",
       "        2.14723662, 0.54977792, 5.39933794, 4.54929736, 2.50869049],\n",
       "       [       nan, 1.48345153,        nan, 2.40270899,        nan,\n",
       "        4.8637746 ,        nan, 5.51196903, 4.4514392 , 2.58214555],\n",
       "       [5.18157359, 2.49789784,        nan,        nan,        nan,\n",
       "        4.71569884,        nan, 1.72945875,        nan,        nan],\n",
       "       [3.09353332,        nan, 0.84198435,        nan,        nan,\n",
       "        2.19892797,        nan, 3.38236632,        nan, 3.03585469],\n",
       "       [0.91807179, 4.13091377,        nan, 2.80595133, 2.16440968,\n",
       "        3.5382711 ,        nan,        nan, 2.41252652, 5.16914711],\n",
       "       [2.75378166, 0.81045228, 4.46076976, 2.80761821,        nan,\n",
       "        4.2138802 , 2.79984937, 5.64968166,        nan, 5.94250741],\n",
       "       [1.07724795, 5.41923498,        nan,        nan, 1.77788685,\n",
       "        0.51168759, 2.27560191,        nan, 2.29971557, 1.64010467]])"
      ]
     },
     "execution_count": 203,
     "metadata": {},
     "output_type": "execute_result"
    }
   ],
   "source": [
    "result"
   ]
  },
  {
   "cell_type": "code",
   "execution_count": null,
   "metadata": {},
   "outputs": [],
   "source": []
  }
 ],
 "metadata": {
  "kernelspec": {
   "display_name": "biaplotter-dev",
   "language": "python",
   "name": "python3"
  },
  "language_info": {
   "codemirror_mode": {
    "name": "ipython",
    "version": 3
   },
   "file_extension": ".py",
   "mimetype": "text/x-python",
   "name": "python",
   "nbconvert_exporter": "python",
   "pygments_lexer": "ipython3",
   "version": "3.9.19"
  }
 },
 "nbformat": 4,
 "nbformat_minor": 2
}
