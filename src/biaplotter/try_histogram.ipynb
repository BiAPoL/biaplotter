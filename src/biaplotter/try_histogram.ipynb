{
 "cells": [
  {
   "cell_type": "code",
   "execution_count": 1,
   "metadata": {},
   "outputs": [],
   "source": [
    "%matplotlib qt\n",
    "import numpy as np\n",
    "import matplotlib.pyplot as plt\n",
    "from matplotlib.colors import Colormap\n",
    "from biaplotter.artists import CustomScatter, AbstractArtist\n",
    "from nap_plot_tools.cmap import cat10_mod_cmap"
   ]
  },
  {
   "cell_type": "code",
   "execution_count": 2,
   "metadata": {},
   "outputs": [
    {
     "data": {
      "image/png": "[encoded data removed]",
      "text/html": [
       "<div style=\"vertical-align: middle;\"><strong>custom colormap</strong> </div><div class=\"cmap\"><img alt=\"custom colormap colormap\" title=\"custom colormap\" style=\"border: 1px solid #555;\" src=\"data:image/png;base64,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\"></div><div style=\"vertical-align: middle; max-width: 514px; display: flex; justify-content: space-between;\"><div style=\"float: left;\"><div title=\"#e6e6fa00\" style=\"display: inline-block; width: 1em; height: 1em; margin: 0; vertical-align: middle; border: 1px solid #555; background-color: #e6e6fa00;\"></div> under</div><div style=\"margin: 0 auto; display: inline-block;\">bad <div title=\"#00000000\" style=\"display: inline-block; width: 1em; height: 1em; margin: 0; vertical-align: middle; border: 1px solid #555; background-color: #00000000;\"></div></div><div style=\"float: right;\">over <div title=\"#bcbcbcff\" style=\"display: inline-block; width: 1em; height: 1em; margin: 0; vertical-align: middle; border: 1px solid #555; background-color: #bcbcbcff;\"></div></div>"
      ],
      "text/plain": [
       "<matplotlib.colors.LinearSegmentedColormap at 0x2d643dea7c0>"
      ]
     },
     "execution_count": 2,
     "metadata": {},
     "output_type": "execute_result"
    }
   ],
   "source": [
    "cat10_mod_cmap"
   ]
  },
  {
   "cell_type": "code",
   "execution_count": 13,
   "metadata": {},
   "outputs": [],
   "source": [
    "class Custom2DHistogram(AbstractArtist):\n",
    "    def __init__(self, data: np.ndarray = None, ax: plt.Axes = None, colormap: Colormap = cat10_mod_cmap, color_indices: np.ndarray = None, bins=10, histogram_colormap: Colormap = plt.cm.viridis):\n",
    "        super().__init__(data, ax, colormap, color_indices)\n",
    "        self._histogram = None  # Placeholder for the 2D histogram artist\n",
    "        self._bins = bins  # Number of bins for the histogram\n",
    "        self._histogram_colormap = histogram_colormap  # Colormap for the histogram\n",
    "        self.data = data  # Initialize the histogram with data\n",
    "        self.draw()  # Initial draw of the histogram\n",
    "\n",
    "    @property\n",
    "    def data(self) -> np.ndarray:\n",
    "        \"\"\"Returns the data associated with the 2D histogram.\"\"\"\n",
    "        return self._data\n",
    "\n",
    "    @data.setter\n",
    "    def data(self, value: np.ndarray):\n",
    "        \"\"\"Sets the data for the 2D histogram, updating the display as needed.\"\"\"\n",
    "        if value is None or len(value) == 0:\n",
    "            return\n",
    "        self._data = value\n",
    "        # Remove the existing histogram to redraw\n",
    "        if self._histogram is not None:\n",
    "            for artist in self._histogram[-1]:\n",
    "                artist.remove()\n",
    "        # Draw the new histogram\n",
    "        self._histogram = self._ax.hist2d(value[:, 0], value[:, 1], bins=self._bins, cmap=self._histogram_colormap, zorder=1)\n",
    "        self.draw()\n",
    "\n",
    "    @property\n",
    "    def visible(self) -> bool:\n",
    "        \"\"\"Determines if the 2D histogram is currently visible.\"\"\"\n",
    "        return self._visible\n",
    "\n",
    "    @visible.setter\n",
    "    def visible(self, value: bool):\n",
    "        \"\"\"Sets the visibility of the 2D histogram.\"\"\"\n",
    "        self._visible = value\n",
    "        if self._histogram is not None:\n",
    "            for artist in self._histogram[-1]:\n",
    "                artist.set_visible(value)\n",
    "        self.draw()\n",
    "\n",
    "    @property\n",
    "    def color_indices(self) -> np.ndarray:\n",
    "        # This property might be less relevant for histograms, as color mapping is often handled differently\n",
    "        return self._color_indices\n",
    "\n",
    "    @color_indices.setter\n",
    "    def color_indices(self, indices: np.ndarray):\n",
    "        \n",
    "        self._color_indices = indices\n",
    "        h, xedges, yedges, _ = self._histogram\n",
    "         # Create empty overlay\n",
    "        overlay_rgba = np.zeros((*h.shape, 4), dtype=float)\n",
    "        output_max = np.zeros(h.shape, dtype=float)\n",
    "        for i in np.unique(self._color_indices):\n",
    "            # Filter data by class\n",
    "            data_filtered_by_class = self._data[self._color_indices == i]\n",
    "            print(data_filtered_by_class.shape)\n",
    "            # Calculate histogram of filtered data while fixing the bins\n",
    "            histogram_filtered_by_class, _, _ = np.histogram2d(data_filtered_by_class[:, 0], data_filtered_by_class[:, 1], bins=[xedges, yedges])\n",
    "            class_mask = histogram_filtered_by_class > output_max\n",
    "            output_max = np.maximum(histogram_filtered_by_class, output_max)\n",
    "            # Get current class color and make it half transparent\n",
    "            # current_color = self._colormap(i)\n",
    "            # current_color_array = np.array(current_color)\n",
    "            # current_color_array[-1] = 0.5\n",
    "            # current_color = tuple(current_color_array)\n",
    "            overlay_rgba[class_mask] = self._colormap(i)\n",
    "        # Draw the overlay\n",
    "        self._ax.imshow(overlay_rgba.swapaxes(0, 1), origin='lower', extent=[xedges[0], xedges[-1], yedges[0], yedges[-1]], aspect='auto', alpha=1, zorder=2)\n",
    "        self.draw()\n",
    "\n",
    "    def draw(self):\n",
    "        \"\"\"Draws or redraws the 2D histogram.\"\"\"\n",
    "        self._ax.figure.canvas.draw_idle()"
   ]
  },
  {
   "cell_type": "code",
   "execution_count": 14,
   "metadata": {},
   "outputs": [],
   "source": [
    "\n",
    "\n",
    "# Generate some random data4\n",
    "np.random.seed(42)  # For reproducible results\n",
    "data = np.random.randn(100, 2)  # 100 2D points\n",
    "\n",
    "# Setup the figure and axes\n",
    "fig, axs = plt.subplots(1, 3, figsize=(12, 6))\n",
    "\n",
    "# Create and display a CustomScatterArtist\n",
    "scatter_artist = CustomScatter(ax=axs[0])\n",
    "axs[0].set_title('Custom Scatter Plot')\n",
    "\n",
    "# Create and display a Custom2DHistogramArtist\n",
    "histogram_artist = Custom2DHistogram(data=data, ax=axs[1], bins=20, histogram_colormap=plt.cm.plasma)\n",
    "axs[1].set_title('Custom 2D Histogram')\n",
    "\n",
    "# # Display the initial plots\n",
    "plt.show()\n",
    "\n"
   ]
  },
  {
   "cell_type": "code",
   "execution_count": 15,
   "metadata": {},
   "outputs": [],
   "source": [
    "scatter_artist.data = data  # Update data for the CustomScatterArtist"
   ]
  },
  {
   "cell_type": "code",
   "execution_count": 16,
   "metadata": {},
   "outputs": [],
   "source": [
    "# Update color_indices for both artists to change colors\n",
    "color_indices = np.linspace(1, 6, 100).astype(int)\n",
    "\n",
    "# Update and display changes for the CustomScatterArtist\n",
    "scatter_artist.color_indices = color_indices[:data.shape[0]]  # Assuming one color per point"
   ]
  },
  {
   "cell_type": "code",
   "execution_count": 17,
   "metadata": {},
   "outputs": [
    {
     "name": "stdout",
     "output_type": "stream",
     "text": [
      "(20, 2)\n",
      "(20, 2)\n",
      "(20, 2)\n",
      "(20, 2)\n",
      "(19, 2)\n",
      "(1, 2)\n"
     ]
    }
   ],
   "source": [
    "# Update and display changes for the Custom2DHistogramArtist\n",
    "histogram_artist.color_indices = color_indices  # Use same indices for simplicity\n",
    "\n",
    "# After updating color_indices, the figures should be redrawn to show changes\n",
    "# Since draw_idle is called within the setter, the plots will update automatically."
   ]
  },
  {
   "cell_type": "markdown",
   "metadata": {},
   "source": [
    "Test for painting histogram"
   ]
  },
  {
   "cell_type": "code",
   "execution_count": 7,
   "metadata": {},
   "outputs": [],
   "source": [
    "# Get histogram\n",
    "h, xedges, yedges, image = histogram_artist._histogram\n",
    "# Get data\n",
    "data = histogram_artist._data"
   ]
  },
  {
   "cell_type": "code",
   "execution_count": 12,
   "metadata": {},
   "outputs": [
    {
     "name": "stdout",
     "output_type": "stream",
     "text": [
      "(20, 2)\n",
      "(20, 2)\n",
      "(20, 2)\n",
      "(20, 2)\n",
      "(19, 2)\n",
      "(1, 2)\n"
     ]
    }
   ],
   "source": [
    "rgba_list = []\n",
    "\n",
    "\n",
    "for i in np.unique(histogram_artist.color_indices):\n",
    "\n",
    "    # Create empty overlay\n",
    "    overlay_rgba = np.zeros((*h.shape, 4), dtype=float)\n",
    "    output_max = np.zeros(h.shape, dtype=float)\n",
    "\n",
    "    # Filter data by class\n",
    "    data_filtered_by_class = data[histogram_artist.color_indices == i]\n",
    "    print(data_filtered_by_class.shape)\n",
    "    # Calculate histogram of filtered data while fixing the bins\n",
    "    histogram_filtered_by_class, _, _ = np.histogram2d(data_filtered_by_class[:, 0], data_filtered_by_class[:, 1], bins=[xedges, yedges])\n",
    "    class_mask = histogram_filtered_by_class > output_max\n",
    "    output_max = np.maximum(histogram_filtered_by_class, output_max)\n",
    "    # Get current class color and make it half transparent\n",
    "    current_color = histogram_artist._colormap(i)\n",
    "    current_color_array = np.array(current_color)\n",
    "    current_color_array[-1] = 0.5\n",
    "    current_color = tuple(current_color_array)\n",
    "    overlay_rgba[class_mask] = histogram_artist._colormap(i)\n",
    "    rgba_list.append(overlay_rgba)\n"
   ]
  },
  {
   "cell_type": "code",
   "execution_count": 10,
   "metadata": {},
   "outputs": [
    {
     "data": {
      "text/plain": [
       "(20, 20, 4)"
      ]
     },
     "execution_count": 10,
     "metadata": {},
     "output_type": "execute_result"
    }
   ],
   "source": [
    "overlay_rgba.shape"
   ]
  },
  {
   "cell_type": "code",
   "execution_count": 20,
   "metadata": {},
   "outputs": [],
   "source": [
    "# clear axs[2]\n",
    "axs[2].cla()"
   ]
  },
  {
   "cell_type": "code",
   "execution_count": 19,
   "metadata": {},
   "outputs": [
    {
     "data": {
      "text/plain": [
       "(-2.2229558186604184, 2.9555560706491444)"
      ]
     },
     "execution_count": 19,
     "metadata": {},
     "output_type": "execute_result"
    }
   ],
   "source": [
    "for overlay in rgba_list:\n",
    "    axs[2].imshow(overlay.swapaxes(0, 1), origin='lower', extent=[xedges[0], xedges[-1], yedges[0], yedges[-1]], aspect='auto', alpha=0.5)\n",
    "# Set bounds same to scatter\n",
    "axs[2].set_xlim(axs[0].get_xlim())\n",
    "axs[2].set_ylim(axs[0].get_ylim())"
   ]
  },
  {
   "cell_type": "code",
   "execution_count": 21,
   "metadata": {},
   "outputs": [
    {
     "name": "stdout",
     "output_type": "stream",
     "text": [
      "(20, 2)\n",
      "(20, 2)\n",
      "(20, 2)\n",
      "(20, 2)\n",
      "(19, 2)\n",
      "(1, 2)\n"
     ]
    }
   ],
   "source": [
    " # Create empty overlay\n",
    "overlay_rgba = np.zeros((*h.shape, 4), dtype=float)\n",
    "output_max = np.zeros(h.shape, dtype=float)\n",
    "for i in np.unique(histogram_artist.color_indices):\n",
    "    # Filter data by class\n",
    "    data_filtered_by_class = data[histogram_artist.color_indices == i]\n",
    "    print(data_filtered_by_class.shape)\n",
    "    # Calculate histogram of filtered data while fixing the bins\n",
    "    histogram_filtered_by_class, _, _ = np.histogram2d(data_filtered_by_class[:, 0], data_filtered_by_class[:, 1], bins=[xedges, yedges])\n",
    "    class_mask = histogram_filtered_by_class > output_max\n",
    "    output_max = np.maximum(histogram_filtered_by_class, output_max)\n",
    "    # Get current class color and make it half transparent\n",
    "    current_color = histogram_artist._colormap(i)\n",
    "    current_color_array = np.array(current_color)\n",
    "    current_color_array[-1] = 0.5\n",
    "    current_color = tuple(current_color_array)\n",
    "    overlay_rgba[class_mask] = histogram_artist._colormap(i)"
   ]
  },
  {
   "cell_type": "code",
   "execution_count": 22,
   "metadata": {},
   "outputs": [
    {
     "data": {
      "text/plain": [
       "<matplotlib.image.AxesImage at 0x2393cd57520>"
      ]
     },
     "execution_count": 22,
     "metadata": {},
     "output_type": "execute_result"
    }
   ],
   "source": [
    "axs[2].imshow(overlay_rgba.swapaxes(0, 1), extent=[xedges[0], xedges[-1], yedges[0], yedges[-1]], aspect='auto', origin='lower', alpha=0.5)"
   ]
  },
  {
   "cell_type": "code",
   "execution_count": 14,
   "metadata": {},
   "outputs": [
    {
     "data": {
      "text/plain": [
       "array([[0., 0., 0., 0., 0., 0., 0., 0., 0., 0., 0., 0., 0., 0., 0., 0.,\n",
       "        0., 0., 0., 0.],\n",
       "       [0., 0., 0., 0., 0., 0., 0., 0., 0., 0., 0., 0., 0., 0., 0., 0.,\n",
       "        0., 0., 0., 0.],\n",
       "       [0., 0., 0., 0., 0., 0., 0., 0., 0., 0., 0., 0., 0., 0., 0., 0.,\n",
       "        0., 0., 0., 0.],\n",
       "       [0., 0., 0., 0., 0., 0., 0., 0., 0., 0., 0., 0., 0., 0., 0., 0.,\n",
       "        0., 0., 0., 0.],\n",
       "       [0., 0., 0., 0., 0., 0., 0., 0., 0., 0., 0., 0., 0., 0., 0., 0.,\n",
       "        0., 0., 0., 0.],\n",
       "       [0., 0., 0., 0., 0., 0., 0., 0., 0., 0., 0., 0., 0., 0., 0., 0.,\n",
       "        0., 0., 0., 0.],\n",
       "       [0., 0., 0., 0., 0., 0., 0., 0., 0., 0., 0., 0., 0., 0., 0., 0.,\n",
       "        0., 0., 0., 0.],\n",
       "       [0., 0., 0., 0., 0., 0., 0., 0., 0., 0., 0., 0., 0., 0., 0., 0.,\n",
       "        0., 0., 0., 0.],\n",
       "       [0., 0., 0., 0., 0., 0., 0., 0., 0., 0., 0., 0., 0., 0., 0., 0.,\n",
       "        0., 0., 0., 0.],\n",
       "       [0., 0., 0., 0., 0., 0., 0., 0., 0., 0., 0., 0., 0., 0., 0., 0.,\n",
       "        0., 0., 0., 0.],\n",
       "       [0., 0., 0., 0., 0., 0., 0., 0., 0., 0., 0., 0., 0., 0., 0., 0.,\n",
       "        0., 0., 0., 0.],\n",
       "       [0., 0., 0., 0., 0., 0., 0., 0., 0., 0., 0., 0., 0., 0., 0., 0.,\n",
       "        0., 0., 0., 0.],\n",
       "       [0., 0., 0., 0., 0., 0., 0., 0., 0., 0., 0., 0., 0., 0., 0., 0.,\n",
       "        0., 0., 0., 0.],\n",
       "       [0., 0., 0., 0., 0., 0., 0., 0., 0., 0., 0., 0., 0., 0., 0., 0.,\n",
       "        0., 0., 0., 0.],\n",
       "       [0., 0., 0., 0., 0., 0., 0., 0., 0., 0., 0., 0., 0., 0., 0., 0.,\n",
       "        0., 0., 0., 0.],\n",
       "       [0., 0., 0., 0., 0., 0., 0., 0., 0., 0., 0., 0., 0., 0., 0., 0.,\n",
       "        0., 0., 0., 0.],\n",
       "       [0., 0., 0., 0., 0., 0., 0., 0., 0., 0., 0., 0., 0., 0., 0., 0.,\n",
       "        0., 0., 0., 0.],\n",
       "       [0., 0., 0., 0., 0., 0., 0., 0., 0., 0., 0., 0., 0., 0., 0., 0.,\n",
       "        0., 0., 0., 0.],\n",
       "       [0., 0., 0., 0., 0., 0., 0., 0., 0., 0., 0., 0., 0., 0., 0., 0.,\n",
       "        0., 0., 0., 0.],\n",
       "       [0., 0., 0., 0., 0., 0., 0., 0., 0., 0., 0., 0., 0., 0., 0., 0.,\n",
       "        0., 0., 0., 0.]])"
      ]
     },
     "execution_count": 14,
     "metadata": {},
     "output_type": "execute_result"
    }
   ],
   "source": [
    "output_max = np.zeros(h.shape, dtype=float)\n",
    "output_max"
   ]
  },
  {
   "cell_type": "code",
   "execution_count": null,
   "metadata": {},
   "outputs": [],
   "source": [
    "h2, _, _ = np.histogram2d(\n",
    "            entries[feature_x], entries[feature_y], bins=[xedges, yedges]\n",
    "        )\n",
    "        "
   ]
  },
  {
   "cell_type": "code",
   "execution_count": null,
   "metadata": {},
   "outputs": [],
   "source": [
    "mask = h2 > output_max"
   ]
  }
 ],
 "metadata": {
  "kernelspec": {
   "display_name": "biaplotter-dev",
   "language": "python",
   "name": "python3"
  },
  "language_info": {
   "codemirror_mode": {
    "name": "ipython",
    "version": 3
   },
   "file_extension": ".py",
   "mimetype": "text/x-python",
   "name": "python",
   "nbconvert_exporter": "python",
   "pygments_lexer": "ipython3",
   "version": "3.9.19"
  }
 },
 "nbformat": 4,
 "nbformat_minor": 2
}
